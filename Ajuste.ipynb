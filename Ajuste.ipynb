{
 "cells": [
  {
   "cell_type": "code",
   "execution_count": 1,
   "metadata": {},
   "outputs": [],
   "source": [
    "import numpy as np\n",
    "import pandas as pd \n",
    "import scipy.optimize as sco\n",
    "import matplotlib.pyplot as plt"
   ]
  },
  {
   "cell_type": "code",
   "execution_count": 2,
   "metadata": {},
   "outputs": [
    {
     "data": {
      "text/html": [
       "<div>\n",
       "<style scoped>\n",
       "    .dataframe tbody tr th:only-of-type {\n",
       "        vertical-align: middle;\n",
       "    }\n",
       "\n",
       "    .dataframe tbody tr th {\n",
       "        vertical-align: top;\n",
       "    }\n",
       "\n",
       "    .dataframe thead th {\n",
       "        text-align: right;\n",
       "    }\n",
       "</style>\n",
       "<table border=\"1\" class=\"dataframe\">\n",
       "  <thead>\n",
       "    <tr style=\"text-align: right;\">\n",
       "      <th></th>\n",
       "      <th>I(A)</th>\n",
       "      <th>V(mV)</th>\n",
       "    </tr>\n",
       "  </thead>\n",
       "  <tbody>\n",
       "    <tr>\n",
       "      <th>0</th>\n",
       "      <td>0.50</td>\n",
       "      <td>1.101</td>\n",
       "    </tr>\n",
       "    <tr>\n",
       "      <th>1</th>\n",
       "      <td>1.02</td>\n",
       "      <td>2.330</td>\n",
       "    </tr>\n",
       "    <tr>\n",
       "      <th>2</th>\n",
       "      <td>1.49</td>\n",
       "      <td>3.333</td>\n",
       "    </tr>\n",
       "    <tr>\n",
       "      <th>3</th>\n",
       "      <td>2.01</td>\n",
       "      <td>4.520</td>\n",
       "    </tr>\n",
       "    <tr>\n",
       "      <th>4</th>\n",
       "      <td>2.49</td>\n",
       "      <td>5.556</td>\n",
       "    </tr>\n",
       "    <tr>\n",
       "      <th>5</th>\n",
       "      <td>3.05</td>\n",
       "      <td>6.953</td>\n",
       "    </tr>\n",
       "  </tbody>\n",
       "</table>\n",
       "</div>"
      ],
      "text/plain": [
       "   I(A)  V(mV)  \n",
       "0  0.50    1.101\n",
       "1  1.02    2.330\n",
       "2  1.49    3.333\n",
       "3  2.01    4.520\n",
       "4  2.49    5.556\n",
       "5  3.05    6.953"
      ]
     },
     "execution_count": 2,
     "metadata": {},
     "output_type": "execute_result"
    }
   ],
   "source": [
    "datos = pd.read_csv('Datos12.txt', sep=';', decimal='.')\n",
    "datos"
   ]
  },
  {
   "cell_type": "code",
   "execution_count": 3,
   "metadata": {},
   "outputs": [],
   "source": [
    "data=datos.to_numpy()"
   ]
  },
  {
   "cell_type": "code",
   "execution_count": 5,
   "metadata": {},
   "outputs": [],
   "source": [
    "def funcion_axuste(x, *coefs): #o asterisco (*) indica que non fixamos o número de coeficientes a introducir\n",
    "    A, B = coefs\n",
    "    y = A + B*x \n",
    "    # a función podería ser: y = A*np.cos(B*x) + C*np.sin(D*x)\n",
    "    # ou outro tipo de funcións non lineais de numpy!\n",
    "    return y"
   ]
  },
  {
   "cell_type": "code",
   "execution_count": 6,
   "metadata": {},
   "outputs": [],
   "source": [
    "p0 = [0.01, 0.001]"
   ]
  },
  {
   "cell_type": "code",
   "execution_count": 7,
   "metadata": {},
   "outputs": [],
   "source": [
    "F, C = datos.shape\n",
    "\n",
    "if C==3: #é dicir hai tres columnas en cada evento (X, Y, s(Y))\n",
    "    x, y, sy = np.split(data, C, axis = 1)\n",
    "    tipo     = 'ponderado'\n",
    "else:\n",
    "    x, y = np.split(data, C, axis = 1)\n",
    "    sy=np.ones(F)*0.001\n",
    "    tipo = 'sen ponderar'\n"
   ]
  },
  {
   "cell_type": "code",
   "execution_count": 8,
   "metadata": {},
   "outputs": [
    {
     "data": {
      "text/plain": [
       "(6,)"
      ]
     },
     "execution_count": 8,
     "metadata": {},
     "output_type": "execute_result"
    }
   ],
   "source": [
    "x=np.hstack(x)\n",
    "y=np.hstack(y)\n",
    "\n",
    "x.shape"
   ]
  },
  {
   "cell_type": "code",
   "execution_count": 107,
   "metadata": {},
   "outputs": [],
   "source": [
    "coef, cov = sco.curve_fit(funcion_axuste, x, y, p0 = p0, sigma =sy, absolute_sigma = True)"
   ]
  },
  {
   "cell_type": "code",
   "execution_count": 108,
   "metadata": {},
   "outputs": [],
   "source": [
    "NC = len(p0)\n",
    "\n",
    "y_teo = funcion_axuste(x, *coef)\n",
    "\n",
    "dif_pon = (y - y_teo)/sy\n",
    "\n",
    "chi2 = np.sum(dif_pon**2)\n",
    "\n",
    "syx = (F*chi2/((F-NC)*np.sum(1./sy**2)))**0.5\n",
    "\n",
    "ym = np.sum(y/sy**2)/np.sum(1./sy**2)\n",
    "\n",
    "st = np.sum(((y-ym)/sy)**2)\n",
    "\n",
    "r2 = (st-chi2)/st\n",
    "\n",
    "E = np.diag(cov)**0.5\n"
   ]
  },
  {
   "cell_type": "code",
   "execution_count": 109,
   "metadata": {},
   "outputs": [
    {
     "name": "stdout",
     "output_type": "stream",
     "text": [
      "================ Resultados do axuste ================\n",
      "\\chi2= 10473.020458411713\n",
      "desviación estándar= 0.05116888815093531\n",
      "coeficiente de regresión= 0.9997727206630571\n",
      "\n",
      "A[0]= -0.030657 , sA[0]= 0.000927\n",
      "A[1]= 2.270543 , sA[1]= 0.000473\n",
      "======================================================\n"
     ]
    }
   ],
   "source": [
    "print(r'================ Resultados do axuste ================')\n",
    "print(r'\\chi2=',chi2) #O parámetro chi^2 é moito máis interesante que o coeficiente de regresión\n",
    "print(u'desviación estándar=',syx)\n",
    "print('coeficiente de regresión=', r2**0.5)\n",
    "print()\n",
    "for i in range(NC):\n",
    "    print( 'A[{0:d}]= {1:f} , sA[{0:d}]= {2:f}'.format(i,coef[i],E[i]))\n",
    "\n",
    "print( '======================================================')"
   ]
  },
  {
   "cell_type": "code",
   "execution_count": 110,
   "metadata": {},
   "outputs": [],
   "source": [
    "# A r antes dunha string serve para que esta entenda formato LaTeX!\n",
    "label_x = r'I $[A]$'\n",
    "label_y = r' V $[mV]$'\n",
    "\n",
    "titulo = r'Ley de Ohm'"
   ]
  },
  {
   "cell_type": "code",
   "execution_count": 111,
   "metadata": {},
   "outputs": [
    {
     "data": {
      "image/png": "[encoded data removed]",
      "text/plain": [
       "<Figure size 792x432 with 1 Axes>"
      ]
     },
     "metadata": {
      "needs_background": "light"
     },
     "output_type": "display_data"
    }
   ],
   "source": [
    "plt.figure(figsize = (11,6))\n",
    "plt.grid(True)\n",
    "\n",
    "\n",
    "'''Ploteamos os puntos experimentais'''\n",
    "\n",
    "plt.errorbar(x, y, yerr = sy, marker = 'x', color = 'r', linestyle = '', label = 'Puntos Experimentais')\n",
    "\n",
    "'''Calculamos e ploteamos a curva'''\n",
    "\n",
    "\n",
    "xt=np.linspace(x[0]-0.2,x[-1]+0.2,1000) #Aquí eu recomendovos restar un pouco ao primeiro valor e sumar un pouco ao último, queda máis bonito\n",
    "yt=funcion_axuste(xt,*coef)\n",
    "\n",
    "plt.plot(xt, yt, 'k-', label = 'Axuste')\n",
    "\n",
    "plt.title(titulo)\n",
    "plt.xlabel(label_x)\n",
    "plt.ylabel(label_y)\n",
    "plt.plot()\n",
    "plt.show()\n",
    "#╣plt.savefig('Ajuste12.png')"
   ]
  },
  {
   "cell_type": "code",
   "execution_count": null,
   "metadata": {},
   "outputs": [],
   "source": []
  }
 ],
 "metadata": {
  "kernelspec": {
   "display_name": "Python 3",
   "language": "python",
   "name": "python3"
  },
  "language_info": {
   "codemirror_mode": {
    "name": "ipython",
    "version": 3
   },
   "file_extension": ".py",
   "mimetype": "text/x-python",
   "name": "python",
   "nbconvert_exporter": "python",
   "pygments_lexer": "ipython3",
   "version": "3.7.6"
  }
 },
 "nbformat": 4,
 "nbformat_minor": 4
}
